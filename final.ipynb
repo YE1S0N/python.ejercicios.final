{
  "nbformat": 4,
  "nbformat_minor": 0,
  "metadata": {
    "colab": {
      "provenance": [],
      "authorship_tag": "ABX9TyMrXpdy/xIzW1VUnCW8EBLE",
      "include_colab_link": true
    },
    "kernelspec": {
      "name": "python3",
      "display_name": "Python 3"
    },
    "language_info": {
      "name": "python"
    }
  },
  "cells": [
    {
      "cell_type": "markdown",
      "metadata": {
        "id": "view-in-github",
        "colab_type": "text"
      },
      "source": [
        "<a href=\"https://colab.research.google.com/github/YE1S0N/python.ejercicios.final/blob/main/final.ipynb\" target=\"_parent\"><img src=\"https://colab.research.google.com/assets/colab-badge.svg\" alt=\"Open In Colab\"/></a>"
      ]
    },
    {
      "cell_type": "code",
      "execution_count": null,
      "metadata": {
        "id": "DRxMl_rOdY2Y",
        "outputId": "ebe74773-e972-4449-cf2c-c8b9b174ec4e",
        "colab": {
          "base_uri": "https://localhost:8080/"
        }
      },
      "outputs": [
        {
          "output_type": "stream",
          "name": "stdout",
          "text": [
            "ingrese un numero: 8\n",
            "escriba SI para continuar o NO para terminarsi\n",
            "ingrese un numero: 7\n",
            "escriba SI para continuar o NO para terminarsi\n",
            "ingrese un numero: 6\n",
            "escriba SI para continuar o NO para terminarno\n",
            "8\n",
            "0\n"
          ]
        }
      ],
      "source": [
        "confirmar = \"si\"\n",
        "num = 0\n",
        "max = 0\n",
        "min = 0\n",
        "while confirmar == \"si\":\n",
        "  num = int(input(\"ingrese un numero: \"))\n",
        "  if min < num:\n",
        "   min = num\n",
        "  confirmar = input(\"escriba SI para continuar o NO para terminar\")\n",
        "print(min)\n",
        "print(max)\n"
      ]
    },
    {
      "cell_type": "code",
      "source": [
        "numero = int(input(\"Ingrese un número entero positivo: \"))\n",
        "if numero < 0:\n",
        "        print(\"El número ingresado no es positivo.\")\n",
        "else:\n",
        "  if numero %2:\n",
        "      print(f\"{numero} es un número primo.\")\n",
        "  else:\n",
        "       print(f\"{numero} no es un número primo.\")"
      ],
      "metadata": {
        "id": "MLI4aN60fw7R",
        "outputId": "1676727f-0349-4870-b464-7ce42ca04a3c",
        "colab": {
          "base_uri": "https://localhost:8080/"
        }
      },
      "execution_count": 33,
      "outputs": [
        {
          "output_type": "stream",
          "name": "stdout",
          "text": [
            "Ingrese un número entero positivo: 1\n",
            "1 es un número primo.\n"
          ]
        }
      ]
    },
    {
      "cell_type": "code",
      "source": [
        "\n",
        "numero = int(input(\"Ingrese un número entero positivo: \"))\n",
        "while numero/numero == 9:\n",
        "  if numero < 0:\n",
        "        print(\"El número ingresado no es positivo.\")\n",
        "else:\n",
        "  if numero %2:\n",
        "      print(f\"{numero} es un número primo.\")\n",
        "  else:\n",
        "    print(f\"{numero} no es un número primo.\")\n"
      ],
      "metadata": {
        "id": "ezMy1fzwYVQZ",
        "outputId": "d537fe8f-af79-4ede-f746-6f31085271ff",
        "colab": {
          "base_uri": "https://localhost:8080/"
        }
      },
      "execution_count": 53,
      "outputs": [
        {
          "output_type": "stream",
          "name": "stdout",
          "text": [
            "Ingrese un número entero positivo: 77\n",
            "77 es un número primo.\n"
          ]
        }
      ]
    },
    {
      "cell_type": "code",
      "source": [
        " numero = int(input(\"Ingrese un número entero: \"))\n",
        " if numero < 1:\n",
        "  print(\"Por favor, ingrese un número entero positivo o mayor que 0.\")\n",
        "  for i in range(numero, 0, -1):\n",
        "print(i)"
      ],
      "metadata": {
        "id": "vhw7QeQkcEfT",
        "outputId": "d98de804-231a-474a-a817-df28a18aa4eb",
        "colab": {
          "base_uri": "https://localhost:8080/",
          "height": 145
        }
      },
      "execution_count": 66,
      "outputs": [
        {
          "output_type": "error",
          "ename": "IndentationError",
          "evalue": "ignored",
          "traceback": [
            "\u001b[0;36m  File \u001b[0;32m\"<ipython-input-66-6815b0455102>\"\u001b[0;36m, line \u001b[0;32m5\u001b[0m\n\u001b[0;31m    print(i)\u001b[0m\n\u001b[0m            ^\u001b[0m\n\u001b[0;31mIndentationError\u001b[0m\u001b[0;31m:\u001b[0m expected an indented block after 'for' statement on line 4\n"
          ]
        }
      ]
    },
    {
      "cell_type": "code",
      "source": [
        "numero = int(input(\"Ingrese un número entero: \"))\n",
        "if numero < 1:\n",
        "  print(\"Por favor, ingrese un número entero positivo o mayor que 0.\")\n",
        "else:\n",
        "  for i in range(numero, 0, -1):\n",
        "            print(i)"
      ],
      "metadata": {
        "id": "Ge_D3zQodNoY",
        "outputId": "c6aa767c-9aa5-487e-a84a-90bd6f1db981",
        "colab": {
          "base_uri": "https://localhost:8080/"
        }
      },
      "execution_count": 78,
      "outputs": [
        {
          "output_type": "stream",
          "name": "stdout",
          "text": [
            "Ingrese un número entero: 22\n",
            "22\n",
            "21\n",
            "20\n",
            "19\n",
            "18\n",
            "17\n",
            "16\n",
            "15\n",
            "14\n",
            "13\n",
            "12\n",
            "11\n",
            "10\n",
            "9\n",
            "8\n",
            "7\n",
            "6\n",
            "5\n",
            "4\n",
            "3\n",
            "2\n",
            "1\n"
          ]
        }
      ]
    },
    {
      "cell_type": "code",
      "source": [],
      "metadata": {
        "id": "owLQkxuwfcbs"
      },
      "execution_count": null,
      "outputs": []
    }
  ]
}