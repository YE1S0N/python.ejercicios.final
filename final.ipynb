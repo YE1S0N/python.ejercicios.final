{
  "nbformat": 4,
  "nbformat_minor": 0,
  "metadata": {
    "colab": {
      "provenance": [],
      "authorship_tag": "ABX9TyNS6FoDpt4Rrh5cK8iklhZC",
      "include_colab_link": true
    },
    "kernelspec": {
      "name": "python3",
      "display_name": "Python 3"
    },
    "language_info": {
      "name": "python"
    }
  },
  "cells": [
    {
      "cell_type": "markdown",
      "metadata": {
        "id": "view-in-github",
        "colab_type": "text"
      },
      "source": [
        "<a href=\"https://colab.research.google.com/github/YE1S0N/python.ejercicios.final/blob/main/final.ipynb\" target=\"_parent\"><img src=\"https://colab.research.google.com/assets/colab-badge.svg\" alt=\"Open In Colab\"/></a>"
      ]
    },
    {
      "cell_type": "code",
      "execution_count": 39,
      "metadata": {
        "id": "DRxMl_rOdY2Y",
        "outputId": "ebe74773-e972-4449-cf2c-c8b9b174ec4e",
        "colab": {
          "base_uri": "https://localhost:8080/"
        }
      },
      "outputs": [
        {
          "output_type": "stream",
          "name": "stdout",
          "text": [
            "ingrese un numero: 8\n",
            "escriba SI para continuar o NO para terminarsi\n",
            "ingrese un numero: 7\n",
            "escriba SI para continuar o NO para terminarsi\n",
            "ingrese un numero: 6\n",
            "escriba SI para continuar o NO para terminarno\n",
            "8\n",
            "0\n"
          ]
        }
      ],
      "source": [
        "confirmar = \"si\"\n",
        "num = 0\n",
        "max = 0\n",
        "min = 0\n",
        "while confirmar == \"si\":\n",
        "  num = int(input(\"ingrese un numero: \"))\n",
        "  if min < num:\n",
        "   min = num\n",
        "  confirmar = input(\"escriba SI para continuar o NO para terminar\")\n",
        "print(min)\n",
        "print(max)\n"
      ]
    },
    {
      "cell_type": "code",
      "source": [],
      "metadata": {
        "id": "MLI4aN60fw7R"
      },
      "execution_count": null,
      "outputs": []
    }
  ]
}