{
  "nbformat": 4,
  "nbformat_minor": 0,
  "metadata": {
    "colab": {
      "provenance": [],
      "include_colab_link": true
    },
    "kernelspec": {
      "name": "python3",
      "display_name": "Python 3"
    },
    "language_info": {
      "name": "python"
    }
  },
  "cells": [
    {
      "cell_type": "markdown",
      "metadata": {
        "id": "view-in-github",
        "colab_type": "text"
      },
      "source": [
        "<a href=\"https://colab.research.google.com/github/YE1S0N/python.ejercicios.final/blob/main/final.ipynb\" target=\"_parent\"><img src=\"https://colab.research.google.com/assets/colab-badge.svg\" alt=\"Open In Colab\"/></a>"
      ]
    },
    {
      "cell_type": "code",
      "execution_count": null,
      "metadata": {
        "id": "DRxMl_rOdY2Y",
        "outputId": "ebe74773-e972-4449-cf2c-c8b9b174ec4e",
        "colab": {
          "base_uri": "https://localhost:8080/"
        }
      },
      "outputs": [
        {
          "output_type": "stream",
          "name": "stdout",
          "text": [
            "ingrese un numero: 8\n",
            "escriba SI para continuar o NO para terminarsi\n",
            "ingrese un numero: 7\n",
            "escriba SI para continuar o NO para terminarsi\n",
            "ingrese un numero: 6\n",
            "escriba SI para continuar o NO para terminarno\n",
            "8\n",
            "0\n"
          ]
        }
      ],
      "source": [
        "confirmar = \"si\"\n",
        "num = 0\n",
        "max = 0\n",
        "min = 0\n",
        "while confirmar == \"si\":\n",
        "  num = int(input(\"ingrese un numero: \"))\n",
        "  if min < num:\n",
        "   min = num\n",
        "  confirmar = input(\"escriba SI para continuar o NO para terminar\")\n",
        "print(min)\n",
        "print(max)\n"
      ]
    },
    {
      "cell_type": "code",
      "source": [
        "numero = int(input(\"Ingrese un número entero positivo: \"))\n",
        "if numero < 0:\n",
        "        print(\"El número ingresado no es positivo.\")\n",
        "else:\n",
        "  if numero %2:\n",
        "      print(f\"{numero} es un número primo.\")\n",
        "  else:\n",
        "       print(f\"{numero} no es un número primo.\")"
      ],
      "metadata": {
        "id": "MLI4aN60fw7R",
        "colab": {
          "base_uri": "https://localhost:8080/"
        },
        "outputId": "1676727f-0349-4870-b464-7ce42ca04a3c"
      },
      "execution_count": null,
      "outputs": [
        {
          "output_type": "stream",
          "name": "stdout",
          "text": [
            "Ingrese un número entero positivo: 1\n",
            "1 es un número primo.\n"
          ]
        }
      ]
    },
    {
      "cell_type": "code",
      "source": [
        "\n",
        "numero = int(input(\"Ingrese un número entero positivo: \"))\n",
        "while numero/numero == 9:\n",
        "  if numero < 0:\n",
        "        print(\"El número ingresado no es positivo.\")\n",
        "else:\n",
        "  if numero %2:\n",
        "      print(f\"{numero} es un número primo.\")\n",
        "  else:\n",
        "    print(f\"{numero} no es un número primo.\")\n"
      ],
      "metadata": {
        "colab": {
          "base_uri": "https://localhost:8080/"
        },
        "id": "ezMy1fzwYVQZ",
        "outputId": "d537fe8f-af79-4ede-f746-6f31085271ff"
      },
      "execution_count": null,
      "outputs": [
        {
          "output_type": "stream",
          "name": "stdout",
          "text": [
            "Ingrese un número entero positivo: 77\n",
            "77 es un número primo.\n"
          ]
        }
      ]
    },
    {
      "cell_type": "code",
      "source": [
        " numero = int(input(\"Ingrese un número entero: \"))\n",
        " if numero < 1:\n",
        "  print(\"Por favor, ingrese un número entero positivo o mayor que 0.\")\n",
        "  for i in range(numero, 0, -1):\n",
        "print(i)"
      ],
      "metadata": {
        "colab": {
          "base_uri": "https://localhost:8080/",
          "height": 140
        },
        "id": "vhw7QeQkcEfT",
        "outputId": "5f840c3b-09a6-4941-8137-1b400d727c65"
      },
      "execution_count": 5,
      "outputs": [
        {
          "output_type": "error",
          "ename": "IndentationError",
          "evalue": "ignored",
          "traceback": [
            "\u001b[0;36m  File \u001b[0;32m\"<ipython-input-5-394b2d3ba4a3>\"\u001b[0;36m, line \u001b[0;32m5\u001b[0m\n\u001b[0;31m    print(i)\u001b[0m\n\u001b[0m            ^\u001b[0m\n\u001b[0;31mIndentationError\u001b[0m\u001b[0;31m:\u001b[0m expected an indented block after 'for' statement on line 4\n"
          ]
        }
      ]
    },
    {
      "cell_type": "code",
      "source": [
        "numero = int(input(\"Ingrese un número entero: \"))\n",
        "if numero < 1:\n",
        "  print(\"Por favor, ingrese un número entero positivo o mayor que 0.\")\n",
        "else:\n",
        "  for i in range(numero, 0, -1):\n",
        "            print(i)"
      ],
      "metadata": {
        "colab": {
          "base_uri": "https://localhost:8080/"
        },
        "id": "Ge_D3zQodNoY",
        "outputId": "1cae1b17-f235-44db-f834-c3dd918ad0f9"
      },
      "execution_count": 2,
      "outputs": [
        {
          "output_type": "stream",
          "name": "stdout",
          "text": [
            "Ingrese un número entero: 44\n",
            "44\n",
            "43\n",
            "42\n",
            "41\n",
            "40\n",
            "39\n",
            "38\n",
            "37\n",
            "36\n",
            "35\n",
            "34\n",
            "33\n",
            "32\n",
            "31\n",
            "30\n",
            "29\n",
            "28\n",
            "27\n",
            "26\n",
            "25\n",
            "24\n",
            "23\n",
            "22\n",
            "21\n",
            "20\n",
            "19\n",
            "18\n",
            "17\n",
            "16\n",
            "15\n",
            "14\n",
            "13\n",
            "12\n",
            "11\n",
            "10\n",
            "9\n",
            "8\n",
            "7\n",
            "6\n",
            "5\n",
            "4\n",
            "3\n",
            "2\n",
            "1\n"
          ]
        }
      ]
    },
    {
      "cell_type": "code",
      "source": [
        "mi_lista1 = [1, 2, 3, 4, 5]\n",
        "mi_lista2 = [\"H\", \"O\", \"L\", \"A\"]\n",
        "mi_lista3 = [0.5, 2.3, 1.4]\n",
        "mi_lista4 = [1, 2, \"A\", \"B\", 0.5]\n",
        "mi_lista5 = [mi_lista1, mi_lista2]\n",
        "print(mi_lista1)\n",
        "print(mi_lista2)\n",
        "print(mi_lista3[2])\n",
        "print(mi_lista4)\n",
        "print(mi_lista5)\n",
        "print(mi_lista5[0][2])\n",
        "print(mi_lista2[1:4])\n",
        "print(mi_lista5[0][1:4])"
      ],
      "metadata": {
        "id": "owLQkxuwfcbs",
        "colab": {
          "base_uri": "https://localhost:8080/"
        },
        "outputId": "ec70065e-d6ae-48e2-fbcb-d453d467da60"
      },
      "execution_count": 30,
      "outputs": [
        {
          "output_type": "stream",
          "name": "stdout",
          "text": [
            "[1, 2, 3, 4, 5]\n",
            "['H', 'O', 'L', 'A']\n",
            "1.4\n",
            "[1, 2, 'A', 'B', 0.5]\n",
            "[[1, 2, 3, 4, 5], ['H', 'O', 'L', 'A']]\n",
            "3\n",
            "['O', 'L', 'A']\n",
            "[2, 3, 4]\n"
          ]
        }
      ]
    },
    {
      "cell_type": "code",
      "source": [
        "lista1 = [1, 2]\n",
        "lista1.append(3)\n",
        "lista1.append(4)\n",
        "lista1.append(5)\n",
        "lista1.append(\"a\")\n",
        "lista1.append(\"yeison\")\n",
        "lista1.append([0.5, 1.5])\n",
        "lista1.remove(1)\n",
        "print(lista1)"
      ],
      "metadata": {
        "colab": {
          "base_uri": "https://localhost:8080/"
        },
        "id": "_cZbDkuD9eQ1",
        "outputId": "247ee055-2bb5-4686-9b11-f4a2b5a68866"
      },
      "execution_count": 37,
      "outputs": [
        {
          "output_type": "stream",
          "name": "stdout",
          "text": [
            "[2, 3, 4, 5, 'a', 'yeison', [0.5, 1.5]]\n"
          ]
        }
      ]
    },
    {
      "cell_type": "code",
      "source": [],
      "metadata": {
        "id": "9TpH8OZlApMl"
      },
      "execution_count": 19,
      "outputs": []
    },
    {
      "cell_type": "code",
      "source": [],
      "metadata": {
        "id": "GEBw3XcZHDlE"
      },
      "execution_count": null,
      "outputs": []
    }
  ]
}